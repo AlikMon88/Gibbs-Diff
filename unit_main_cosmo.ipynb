{
 "cells": [
  {
   "cell_type": "markdown",
   "id": "ccb21479",
   "metadata": {},
   "source": [
    "### Joint Blind-Denoising and Cosmological Parameter Inference \n",
    "\n",
    "We create a alternating Gibbs Sampling procedure where we infer CMB signal (gaussian-like) parameters akin to noise in natural image denoising + posterior sampler is intersteller dust simulations\n",
    "\n",
    "**CMB**  \n",
    "Model temperature fluctuations as  \n",
    "$$\n",
    "\\mu = 0,\\quad \\mathrm{Cov}(y) = \\Sigma_\\phi,\n",
    "$$  \n",
    "\n",
    "where  \n",
    "$$\n",
    "\\Sigma_\\phi = \\Sigma(H_0,\\;\\Omega_b,\\;\\sigma).\n",
    "$$  \n"
   ]
  },
  {
   "cell_type": "markdown",
   "id": "b74e567d",
   "metadata": {},
   "source": [
    "##### Data-Loading + Inspection"
   ]
  },
  {
   "cell_type": "code",
   "execution_count": null,
   "id": "6b431094",
   "metadata": {
    "vscode": {
     "languageId": "plaintext"
    }
   },
   "outputs": [],
   "source": []
  },
  {
   "cell_type": "code",
   "execution_count": null,
   "id": "6752a96c",
   "metadata": {
    "vscode": {
     "languageId": "plaintext"
    }
   },
   "outputs": [],
   "source": []
  },
  {
   "cell_type": "code",
   "execution_count": null,
   "id": "66a9b310",
   "metadata": {
    "vscode": {
     "languageId": "plaintext"
    }
   },
   "outputs": [],
   "source": []
  },
  {
   "cell_type": "code",
   "execution_count": null,
   "id": "c8805d8b",
   "metadata": {
    "vscode": {
     "languageId": "plaintext"
    }
   },
   "outputs": [],
   "source": []
  },
  {
   "cell_type": "code",
   "execution_count": null,
   "id": "b6b741d7",
   "metadata": {
    "vscode": {
     "languageId": "plaintext"
    }
   },
   "outputs": [],
   "source": []
  }
 ],
 "metadata": {
  "language_info": {
   "name": "python"
  }
 },
 "nbformat": 4,
 "nbformat_minor": 5
}
