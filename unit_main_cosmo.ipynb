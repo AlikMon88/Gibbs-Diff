{
 "cells": [
  {
   "cell_type": "markdown",
   "id": "ccb21479",
   "metadata": {},
   "source": [
    "### Joint Blind-Denoising and Cosmological Parameter Inference  (NEED: POWER SPECTRUM GRAPH)\n",
    "\n",
    "We create a alternating Gibbs Sampling procedure where we infer CMB signal (gaussian-like) parameters akin to noise in natural image denoising + posterior sampler is intersteller dust simulations\n",
    "\n",
    "**CMB**  \n",
    "Model temperature fluctuations as  \n",
    "$$\n",
    "\\mu = 0,\\quad \\mathrm{Cov}(y) = \\Sigma_\\phi,\n",
    "$$  \n",
    "\n",
    "where  \n",
    "$$\n",
    "\\Sigma_\\phi = \\Sigma(H_0,\\;\\Omega_b,\\;\\sigma).\n",
    "$$  \n",
    "Hubble Constant ~ Uniform-Sampling, Baryon Density ~ Uniform-Sampling, Noise Amplitude\n"
   ]
  },
  {
   "cell_type": "markdown",
   "id": "b74e567d",
   "metadata": {},
   "source": [
    "##### Data-Loading + Inspection (LOAD: UNIX-enviornment)"
   ]
  },
  {
   "cell_type": "code",
   "execution_count": 1,
   "id": "a50a723d",
   "metadata": {},
   "outputs": [],
   "source": [
    "# !pip install astropy camb healpy pixella"
   ]
  },
  {
   "cell_type": "code",
   "execution_count": 1,
   "id": "6b431094",
   "metadata": {},
   "outputs": [],
   "source": [
    "import numpy as np\n",
    "import matplotlib.pyplot as plt\n",
    "import os\n",
    "import camb\n",
    "from camb import model, initialpower\n",
    "import pixell.enmap as enmap # For flat-sky map operations\n",
    "from pixell import curvedsky # For generating GRFs from Cls\n",
    "import healpy as hp # Often used by CAMB for Cls\n",
    "import warnings\n",
    "import time\n",
    "import torch\n",
    "import torch.nn as nn\n",
    "import importlib\n",
    "import cv2\n",
    "\n",
    "warnings.filterwarnings('ignore')"
   ]
  },
  {
   "cell_type": "code",
   "execution_count": 2,
   "id": "8851014a",
   "metadata": {},
   "outputs": [],
   "source": [
    "from modules.utils.metrics import *"
   ]
  },
  {
   "cell_type": "code",
   "execution_count": 3,
   "id": "a1bca28d",
   "metadata": {},
   "outputs": [],
   "source": [
    "# --- Configuration ---\n",
    "# Map properties\n",
    "NPIX_SIDE = 256  # Number of pixels on a side\n",
    "PIX_SIZE_ARCMIN = 8.0  # Pixel size in arcminutes\n",
    "SHAPE, WCS = enmap.geometry(pos=(0,0), shape=(NPIX_SIDE, NPIX_SIDE), res=np.deg2rad(PIX_SIZE_ARCMIN/60.), proj=\"car\")\n",
    "# SHAPE will be (NPIX_SIDE, NPIX_SIDE), WCS is the world coordinate system object\n",
    "\n",
    "# Cosmological Parameters (Fiducial values from paper's footnote 8)\n",
    "H0_FID = 67.5 # Example, adjust if paper specifies exact CAMB H0\n",
    "OMBH2_FID = 0.022 # Baryon density omega_b * h^2\n",
    "OMCH2_FID = 0.122 # Cold dark matter density omega_c * h^2\n",
    "OMK_FID = 0.0    # Omega_k\n",
    "TAU_FID = 0.0544 # Optical depth\n",
    "NS_FID = 0.9649  # Scalar spectral index\n",
    "AS_FID = 2.1e-9  # Scalar amplitude (ln(10^10 As) = 3.044 => As ~ 2.1e-9)\n",
    "\n",
    "# Noise parameter Phi = (sigma_cmb, H0_cosmo, ombh2_cosmo)\n",
    "# Priors (from paper Section 3.2)\n",
    "H0_PRIOR_MIN, H0_PRIOR_MAX = 50.0, 90.0\n",
    "OMBH2_PRIOR_MIN, OMBH2_PRIOR_MAX = 0.0075, 0.0567 # Note: paper uses omega_b, CAMB uses ombh2\n",
    "# To convert: omega_b = ombh2 / (H0/100)^2. For priors, it's easier to sample H0 and ombh2 directly.\n",
    "SIGMA_CMB_PRIOR_MIN, SIGMA_CMB_PRIOR_MAX = 0.1, 1.2 # sigma_min should be >0. Let's use 0.1 for now.\n",
    "\n",
    "# Data paths (MODIFY THESE)\n",
    "DUST_DATA_DIR = \"data/cosmo/CATS_dust_data/dens_t750.fits\" # Placeholder\n",
    "OUTPUT_DIR = \"data/cosmo/generated_data/\"\n",
    "OUTPUT_DUST_MAP_DIR = \"data/cosmo/generated_dust_maps/\"\n",
    "\n",
    "os.makedirs(OUTPUT_DUST_MAP_DIR, exist_ok=True)\n",
    "os.makedirs(OUTPUT_DIR, exist_ok=True)\n",
    "os.makedirs(os.path.join(OUTPUT_DIR, \"dust_maps\"), exist_ok=True)\n",
    "os.makedirs(os.path.join(OUTPUT_DIR, \"cmb_maps\"), exist_ok=True)\n",
    "os.makedirs(os.path.join(OUTPUT_DIR, \"mixed_maps\"), exist_ok=True)\n",
    "os.makedirs(os.path.join(OUTPUT_DIR, \"params\"), exist_ok=True)\n",
    "\n",
    "NUM_SAMPLES_TO_GENERATE = 10 # Small number for testing"
   ]
  },
  {
   "cell_type": "code",
   "execution_count": 4,
   "id": "4e5e9241",
   "metadata": {},
   "outputs": [],
   "source": [
    "SUB_SHAPE = (12, 12)"
   ]
  },
  {
   "cell_type": "markdown",
   "id": "e8c5ba9b",
   "metadata": {},
   "source": [
    "Intersteller Dust Simulations (NEED: CATS data (real dust))"
   ]
  },
  {
   "cell_type": "code",
   "execution_count": 5,
   "id": "6752a96c",
   "metadata": {},
   "outputs": [],
   "source": [
    "def simulate_dust_map(index, output_dir=os.path.join(OUTPUT_DIR, \"dust_maps\")):\n",
    "    \"\"\"\n",
    "    Placeholder for loading a dust map.\n",
    "    Replace this with actual loading from CATS database.\n",
    "    For now, generates a synthetic \"dust-like\" map.\n",
    "    \"\"\"\n",
    "    \n",
    "    # --- BEGIN PLACHOLDER ---\n",
    "    # Try to load if it exists (e.g., if you pre-process CATS)\n",
    "    # filepath = os.path.join(DUST_DATA_DIR, f\"dust_map_{index:04d}.npy\")\n",
    "    # if os.path.exists(filepath):\n",
    "    #     return enmap.read_map(filepath) # Assuming maps are saved as .npy or FITS\n",
    "\n",
    "    # Generate synthetic dust: power-law power spectrum\n",
    "    ells = np.fft.fftfreq(NPIX_SIDE, d=np.deg2rad(PIX_SIZE_ARCMIN / 60.0)) * 2 * np.pi\n",
    "    ell_grid_x, ell_grid_y = np.meshgrid(ells, ells)\n",
    "    ell_mod = np.sqrt(ell_grid_x**2 + ell_grid_y**2)\n",
    "    \n",
    "    # Power law: P(k) ~ k^-alpha. Let's use alpha around 2.5-3 for dust-like structures\n",
    "    alpha_dust = 2.7\n",
    "    ps2d_dust = np.zeros_like(ell_mod)\n",
    "    ps2d_dust[ell_mod > 0] = ell_mod[ell_mod > 0]**(-alpha_dust)\n",
    "    ps2d_dust[0, 0] = 0 # No DC component in fluctuations\n",
    "\n",
    "    # Generate random phases\n",
    "    random_phases = np.exp(1j * 2 * np.pi * np.random.rand(NPIX_SIDE, NPIX_SIDE))\n",
    "    \n",
    "    # Create map in Fourier space\n",
    "    map_fourier = np.sqrt(ps2d_dust) * random_phases\n",
    "    \n",
    "    # Inverse FFT to get real-space map\n",
    "    dust_map_data = np.fft.ifft2(map_fourier).real\n",
    "    \n",
    "    # Normalize to have some reasonable range (e.g., mean 0, std 1, then scale)\n",
    "    dust_map_data = (dust_map_data - np.mean(dust_map_data)) / np.std(dust_map_data)\n",
    "    dust_map_data *= 50 # Arbitrary scaling for visual purposes\n",
    "    \n",
    "    dust_map = enmap.ndmap(dust_map_data, WCS)\n",
    "    # --- END PLACEHOLDER ---\n",
    "\n",
    "    # Save the generated/loaded map (optional, good for consistency)\n",
    "    # enmap.write_map(os.path.join(output_dir, f\"dust_{index:04d}.fits\"), dust_map)\n",
    "    dust_map = cv2.resize(dust_map, SUB_SHAPE)\n",
    "    \n",
    "    return dust_map"
   ]
  },
  {
   "cell_type": "code",
   "execution_count": 6,
   "id": "21cef766",
   "metadata": {},
   "outputs": [
    {
     "name": "stdout",
     "output_type": "stream",
     "text": [
      "Testing dust map generation/loading...\n"
     ]
    },
    {
     "data": {
      "image/png": "[encoded data removed]",
      "text/plain": [
       "<Figure size 500x500 with 2 Axes>"
      ]
     },
     "metadata": {},
     "output_type": "display_data"
    }
   ],
   "source": [
    "print(\"Testing dust map generation/loading...\")\n",
    "test_dust = simulate_dust_map(0)\n",
    "plt.figure(figsize=(5,5))\n",
    "plt.imshow(test_dust, cmap='coolwarm')\n",
    "plt.title(\"Sample Synthetic Dust Map\")\n",
    "plt.colorbar()\n",
    "# plt.savefig(os.path.join(OUTPUT_DIR,\"sample_synthetic_dust.png\"))\n",
    "plt.show()\n",
    "# print(\"Synthetic dust map generated and saved.\")"
   ]
  },
  {
   "cell_type": "markdown",
   "id": "f5bd68c1",
   "metadata": {},
   "source": [
    "CATS - Dataset"
   ]
  },
  {
   "cell_type": "code",
   "execution_count": 7,
   "id": "d264f375",
   "metadata": {},
   "outputs": [],
   "source": [
    "from astropy.io import fits # Example for FITS files\n",
    "import os"
   ]
  },
  {
   "cell_type": "markdown",
   "id": "1470aa64",
   "metadata": {},
   "source": [
    "https://www.mhdturbulence.com/\n",
    "\n",
    "Cho-ENO - Mach ~ 7"
   ]
  },
  {
   "cell_type": "code",
   "execution_count": 8,
   "id": "a882a1ae",
   "metadata": {},
   "outputs": [],
   "source": [
    "SIMULATION_DICT = {\n",
    "    \"data/cosmo/CATS_dust_data/dens_t750.fits\": {\n",
    "        \"run_id\": \"b.1p.01\", \n",
    "        \"timesteps\": \"t_750\"\n",
    "    }\n",
    "}\n",
    "\n",
    "TARGET_MAP_SIZE = (NPIX_SIDE, NPIX_SIDE)"
   ]
  },
  {
   "cell_type": "code",
   "execution_count": 9,
   "id": "7ace6dc8",
   "metadata": {},
   "outputs": [],
   "source": [
    "def create_column_density_map_from_cube(density_cube_3d, axis=0):\n",
    "    \"\"\"\n",
    "    Creates a 2D column density map by integrating along a specified axis.\n",
    "    \"\"\"\n",
    "    if density_cube_3d.ndim != 3: # Basic check\n",
    "        raise ValueError(f\"Input must be a 3D density cube. Got {density_cube_3d.ndim} dimensions.\")\n",
    "    # Shape check will be done before calling or after augmentation\n",
    "    return np.sum(density_cube_3d, axis=axis)\n",
    "\n",
    "def augment_3d_cube(cube):\n",
    "    \"\"\"\n",
    "    Applies random augmentations (rotations, flips) to a 3D cube.\n",
    "    Returns the augmented cube.\n",
    "    \"\"\"\n",
    "    augmented_cube = cube.copy()\n",
    "\n",
    "    # 1. Random Flips (along each axis with 50% probability)\n",
    "    if np.random.rand() > 0.5:\n",
    "        augmented_cube = np.flip(augmented_cube, axis=0)\n",
    "    if np.random.rand() > 0.5:\n",
    "        augmented_cube = np.flip(augmented_cube, axis=1)\n",
    "    if np.random.rand() > 0.5:\n",
    "        augmented_cube = np.flip(augmented_cube, axis=2)\n",
    "\n",
    "    # 2. Random Rotations (90-degree increments around random axis)\n",
    "    # More complex rotations are possible but add complexity with non-cubic results\n",
    "    # and interpolation. For now, stick to 90-degree rotations which preserve grid.\n",
    "    num_rotations = np.random.randint(0, 4) # 0, 1, 2, or 3 ninety-degree rotations\n",
    "    rot_axis_idx = np.random.randint(0, 3)  # 0 for x, 1 for y, 2 for z (axes to rotate around)\n",
    "    \n",
    "    axes_to_rotate = [(1,2), (0,2), (0,1)][rot_axis_idx] # (axes[0], axes[1]) for rotate function\n",
    "\n",
    "    if num_rotations > 0:\n",
    "        # Scipy.ndimage.rotate uses degrees.\n",
    "        # Note: scipy.ndimage.rotate can change array shape if not careful,\n",
    "        # and introduces interpolation. For exact 90-deg rotations without shape change\n",
    "        # or interpolation, np.rot90 is better.\n",
    "        augmented_cube = np.rot90(augmented_cube, k=num_rotations, axes=axes_to_rotate)\n",
    "        \n",
    "    return augmented_cube\n"
   ]
  },
  {
   "cell_type": "code",
   "execution_count": 10,
   "id": "eb86e8af",
   "metadata": {},
   "outputs": [],
   "source": [
    "def generate_single_dust_map(verbose=False):\n",
    "    \"\"\"\n",
    "    Generates a single, randomly augmented 2D dust column density map.\n",
    "    It randomly selects a 3D cube from the pre-scanned paths,\n",
    "    applies random augmentations, and integrates along a random axis.\n",
    "\n",
    "    Returns:\n",
    "        np.ndarray: A 2D dust map, or None if no source cubes are available or an error occurs.\n",
    "    \"\"\"\n",
    "\n",
    "    try:\n",
    "        # 1. Randomly select a 3D density cube path\n",
    "        cube_path = np.random.choice(list(SIMULATION_DICT.keys()))\n",
    "        if verbose: print(f\"Selected cube: {cube_path}\")\n",
    "\n",
    "        # 2. Load the 3D density cube\n",
    "        with fits.open(cube_path) as hdul:\n",
    "            density_cube_3d = hdul[0].data\n",
    "        \n",
    "        if density_cube_3d.shape != (NPIX_SIDE, NPIX_SIDE, NPIX_SIDE):\n",
    "            if verbose: print(f\"Warning: Cube {cube_path} has unexpected shape {density_cube_3d.shape}. Skipping.\")\n",
    "            return None # Or retry with another cube\n",
    "\n",
    "        # 3. Apply random 3D augmentations\n",
    "        augmented_cube = augment_3d_cube(density_cube_3d)\n",
    "\n",
    "        # 4. Randomly select an integration axis\n",
    "        integration_axis = np.random.randint(0, 3) # 0, 1, or 2\n",
    "        \n",
    "        # 5. Create column density map\n",
    "        col_dens_map = create_column_density_map_from_cube(augmented_cube, axis=integration_axis)\n",
    "        \n",
    "        if col_dens_map.shape != TARGET_MAP_SIZE:\n",
    "             if verbose: print(f\"Warning: Generated map has shape {col_dens_map.shape}, expected {TARGET_MAP_SIZE}. This might indicate an issue in augmentation or projection.\")\n",
    "             # Potentially add cropping/resizing here if augmentations can change shape,\n",
    "             # but np.rot90 with 90-deg steps on cubic arrays should preserve shape.\n",
    "             return None\n",
    "        col_dens_map = cv2.resize(col_dens_map, SUB_SHAPE)\n",
    "        return col_dens_map\n",
    "\n",
    "    except Exception as e:\n",
    "        if verbose: print(f\"Error generating single dust map from {cube_path if 'cube_path' in locals() else 'N/A'}: {e}\")\n",
    "        return None"
   ]
  },
  {
   "cell_type": "code",
   "execution_count": 11,
   "id": "61b9542e",
   "metadata": {},
   "outputs": [
    {
     "data": {
      "image/png": "[encoded data removed]",
      "text/plain": [
       "<Figure size 500x500 with 2 Axes>"
      ]
     },
     "metadata": {},
     "output_type": "display_data"
    }
   ],
   "source": [
    "temp_dust_map = generate_single_dust_map()\n",
    "\n",
    "plt.figure(figsize=(5, 5))\n",
    "plt.imshow(temp_dust_map, origin='lower', cmap='coolwarm', vmax=np.percentile(temp_dust_map, 99))\n",
    "plt.title(\"Temp Dust Map\")\n",
    "plt.colorbar()\n",
    "plt.show()"
   ]
  },
  {
   "cell_type": "markdown",
   "id": "ca2ebede",
   "metadata": {},
   "source": [
    "CMB simulation"
   ]
  },
  {
   "cell_type": "code",
   "execution_count": 12,
   "id": "66a9b310",
   "metadata": {},
   "outputs": [],
   "source": [
    "def get_camb_cls(H0, ombh2, omch2=OMCH2_FID, omk=OMK_FID, tau=TAU_FID,\n",
    "                 As=AS_FID, ns=NS_FID, lmax=3*NPIX_SIDE): # lmax somewhat larger than Nyquist\n",
    "    \"\"\"\n",
    "    Uses CAMB to calculate TT power spectra.\n",
    "    \"\"\"\n",
    "    pars = camb.CAMBparams()\n",
    "    pars.set_cosmology(H0=H0, ombh2=ombh2, omch2=omch2, omk=omk, tau=tau)\n",
    "    pars.InitPower.set_params(As=As, ns=ns, r=0) # r=0 for no tensors\n",
    "    pars.set_for_lmax(lmax, lens_potential_accuracy=0) # lens_potential_accuracy=0 if not lensing\n",
    "\n",
    "    results = camb.get_results(pars)\n",
    "    powers = results.get_cmb_power_spectra(pars, CMB_unit='muK') # Get Cls in uK^2\n",
    "    cl_tt = powers['total'][:, 0] # TT spectrum (0-indexed for l, so cl_tt[l] is C_l^TT)\n",
    "    \n",
    "    # CAMB returns Cls from l=0. We need l=0 to lmax.\n",
    "    # Ensure cl_tt has length lmax+1. CAMB might return up to lmax_calc.\n",
    "    if len(cl_tt) > lmax + 1:\n",
    "        cl_tt = cl_tt[:lmax+1]\n",
    "    elif len(cl_tt) < lmax + 1:\n",
    "        # Pad with zeros if CAMB didn't compute up to lmax (shouldn't happen with set_for_lmax)\n",
    "        cl_tt = np.pad(cl_tt, (0, lmax + 1 - len(cl_tt)), 'constant')\n",
    "\n",
    "    # Remove monopole and dipole from Cls for map generation (often done)\n",
    "    cl_tt[0] = 0 \n",
    "    cl_tt[1] = 0\n",
    "    return cl_tt # Units of uK^2\n",
    "\n",
    "def generate_cmb_map(cl_tt, sigma_cmb_amp, seed=None):\n",
    "    \"\"\"\n",
    "    Generates a flat-sky CMB map realization from Cls using pixell.\n",
    "    cl_tt should be the power spectrum D_l = l(l+1)C_l/2pi or C_l.\n",
    "    pixell.curvedsky.rand_map expects C_l.\n",
    "    sigma_cmb_amp is the overall amplitude scaling factor mentioned in paper (Phi).\n",
    "    \"\"\"\n",
    "    # The Cls from CAMB are C_l.\n",
    "    # The sigma_cmb_amp from the paper seems to be a direct multiplier on the *covariance*,\n",
    "    # so it's a multiplier on Cls (power), or on the map std. dev. if it's sqrt(power).\n",
    "    # Let's assume sigma_cmb_amp scales the *standard deviation* of the CMB map.\n",
    "    # So, C_l_scaled = (sigma_cmb_amp^2) * C_l_fiducial\n",
    "    # However, the paper describes sigma as part of Phi, which parametrizes Sigma_Phi.\n",
    "    # If Sigma_Phi = sigma^2 * Sigma_phi_base, then C_l_effective = sigma^2 * C_l_base\n",
    "    \n",
    "    scaled_cl_tt = cl_tt * (sigma_cmb_amp**2) # Scale power spectrum\n",
    "\n",
    "    # pixell.curvedsky.rand_map needs an array of Cls [TT, EE, BB, TE, ...]\n",
    "    # For TT only:\n",
    "    cls_for_randmap = np.zeros((1, len(scaled_cl_tt))) # Shape (1, nl) for just T\n",
    "    cls_for_randmap[0, :] = scaled_cl_tt\n",
    "    \n",
    "    cmb_map_data = curvedsky.rand_map(SHAPE, WCS, cls_for_randmap, seed=seed)\n",
    "    cmb_map_data = enmap.ndmap(cmb_map_data, WCS) # Returns a single map (T)\n",
    "    cmb_map_data = cv2.resize(cmb_map_data, SUB_SHAPE)\n",
    "\n",
    "    return cmb_map_data"
   ]
  },
  {
   "cell_type": "code",
   "execution_count": 13,
   "id": "26f177fd",
   "metadata": {},
   "outputs": [
    {
     "name": "stdout",
     "output_type": "stream",
     "text": [
      "\n",
      "Testing CMB map generation...\n"
     ]
    },
    {
     "data": {
      "image/png": "[encoded data removed]",
      "text/plain": [
       "<Figure size 500x500 with 2 Axes>"
      ]
     },
     "metadata": {},
     "output_type": "display_data"
    }
   ],
   "source": [
    "# Test CMB generation\n",
    "print(\"\\nTesting CMB map generation...\")\n",
    "fiducial_H0 = 67.5\n",
    "fiducial_ombh2 = 0.02237 # Example value\n",
    "fiducial_sigma_cmb = 1.0 \n",
    "\n",
    "test_cls_tt = get_camb_cls(H0=fiducial_H0, ombh2=fiducial_ombh2)\n",
    "test_cmb = generate_cmb_map(test_cls_tt, sigma_cmb_amp=fiducial_sigma_cmb, seed=42)\n",
    "\n",
    "plt.figure(figsize=(5,5))\n",
    "plt.imshow(test_cmb, cmap='coolwarm')\n",
    "plt.title(f\"Sample CMB Map (H0={fiducial_H0}, ombh2={fiducial_ombh2}, sigma={fiducial_sigma_cmb})\", fontsize=8)\n",
    "plt.colorbar(label=\"$\\mu K$\")\n",
    "plt.show()"
   ]
  },
  {
   "cell_type": "markdown",
   "id": "64d80a63",
   "metadata": {},
   "source": [
    "Data-Generation (Mixed)"
   ]
  },
  {
   "cell_type": "code",
   "execution_count": 14,
   "id": "c8805d8b",
   "metadata": {},
   "outputs": [],
   "source": [
    "def generate_dataset_sample(index, seed_offset=0, verbose=False):\n",
    "    \"\"\"Generates one sample: dust_map, cmb_map, mixed_map, and cmb_params.\"\"\"\n",
    "    current_seed_dust = index + seed_offset \n",
    "    current_seed_cmb = index + seed_offset + NUM_SAMPLES_TO_GENERATE # ensure different seeds\n",
    "\n",
    "    # 1. Get Dust map\n",
    "    # dust_map = generate_dust_map(index) # Use index for dust map selection if you have a list\n",
    "    dust_map = generate_single_dust_map() \n",
    "\n",
    "    # 2. Sample CMB parameters from prior\n",
    "    h0_sample = np.random.uniform(H0_PRIOR_MIN, H0_PRIOR_MAX)\n",
    "    ombh2_sample = np.random.uniform(OMBH2_PRIOR_MIN, OMBH2_PRIOR_MAX)\n",
    "    sigma_cmb_sample = np.random.uniform(SIGMA_CMB_PRIOR_MIN, SIGMA_CMB_PRIOR_MAX)\n",
    "    \n",
    "    cmb_params = {\n",
    "        'H0': h0_sample,\n",
    "        'ombh2': ombh2_sample,\n",
    "        'sigma_cmb': sigma_cmb_sample\n",
    "    }\n",
    "\n",
    "    # 3. Generate CMB map\n",
    "    cls_tt_sample = get_camb_cls(H0=h0_sample, ombh2=ombh2_sample)\n",
    "    cmb_map = generate_cmb_map(cls_tt_sample, sigma_cmb_amp=sigma_cmb_sample, seed=current_seed_cmb)\n",
    "\n",
    "    if verbose:\n",
    "    # 4. Create mixed map\n",
    "        print(type(dust_map), dust_map.shape, cmb_map.shape)\n",
    "        print('Dust-Map: ', min(np.ravel(dust_map)), max(np.ravel(dust_map)))\n",
    "        print('CMB-Map: ', min(np.ravel(cmb_map)), max(np.ravel(cmb_map)))\n",
    "\n",
    "    ## z-score norm (standardization)\n",
    "    dust_map = (dust_map - np.mean(dust_map)) / np.std(dust_map)\n",
    "    cmb_map = (cmb_map - np.mean(cmb_map)) / np.std(cmb_map)\n",
    "\n",
    "    if verbose:\n",
    "        print(type(dust_map), dust_map.shape, cmb_map.shape)\n",
    "        print('Dust-Map: ', min(np.ravel(dust_map)), max(np.ravel(dust_map)))\n",
    "        print('CMB-Map: ', min(np.ravel(cmb_map)), max(np.ravel(cmb_map)))\n",
    "\n",
    "    ## min-max scaling (Norm) ~ [0, 1]/custom descaling\n",
    "    # dust_map = (dust_map - np.min(dust_map)) / (np.max(dust_map) - np.min(dust_map))\n",
    "    # cmb_map = (cmb_map - np.min(cmb_map)) / (np.max(cmb_map) - np.min(cmb_map))\n",
    "\n",
    "    # print(type(dust_map), dust_map.shape, cmb_map.shape)\n",
    "    # print('Dust-Map: ', min(np.ravel(dust_map)), max(np.ravel(dust_map)))\n",
    "    # print('CMB-Map: ', min(np.ravel(cmb_map)), max(np.ravel(cmb_map)))\n",
    "\n",
    "    mixed_map = dust_map + cmb_map\n",
    "    if verbose:\n",
    "        print('Mixed-Map: ', min(np.ravel(cmb_map)), max(np.ravel(cmb_map)))\n",
    "    \n",
    "    # 5. Save data\n",
    "    enmap.write_map(os.path.join(OUTPUT_DIR, \"dust_maps\", f\"dust_{index:04d}.fits\"), dust_map)\n",
    "    enmap.write_map(os.path.join(OUTPUT_DIR, \"cmb_maps\", f\"cmb_{index:04d}.fits\"), cmb_map)\n",
    "    enmap.write_map(os.path.join(OUTPUT_DIR, \"mixed_maps\", f\"mixed_{index:04d}.fits\"), mixed_map)\n",
    "    np.save(os.path.join(OUTPUT_DIR, \"params\", f\"params_{index:04d}.npy\"), cmb_params)\n",
    "    # Dust map is saved by load_or_generate_dust_map\n",
    "\n",
    "    ## (1, 256, 256)\n",
    "    return np.expand_dims(dust_map, axis=0), np.expand_dims(cmb_map, axis=0), np.expand_dims(mixed_map, axis=0), cmb_params"
   ]
  },
  {
   "cell_type": "code",
   "execution_count": 15,
   "id": "9ca737ad",
   "metadata": {},
   "outputs": [],
   "source": [
    "def generate_mixed_dataset(NUM_SAMPLES_TO_GENERATE, verbose=False):\n",
    "    print(f\"\\nGenerating {NUM_SAMPLES_TO_GENERATE} dataset samples...\")\n",
    "    dust_maps, cmb_maps, mixed_maps, params_list = [], [], [], []\n",
    "    for i in range(NUM_SAMPLES_TO_GENERATE):\n",
    "        if verbose:\n",
    "            print(f\"Generating sample {i+1}/{NUM_SAMPLES_TO_GENERATE}\")\n",
    "        d_map, c_map, m_map, params = generate_dataset_sample(i)\n",
    "        \n",
    "        dust_maps.append(d_map) \n",
    "        cmb_maps.append(c_map) \n",
    "        mixed_maps.append(m_map)\n",
    "        params_list.append(params)\n",
    "    \n",
    "    print(\"Dataset generation complete.\")\n",
    "    return np.array(dust_maps), np.array(cmb_maps), np.array(mixed_maps), np.array(params_list) "
   ]
  },
  {
   "cell_type": "code",
   "execution_count": null,
   "id": "efe28afe",
   "metadata": {},
   "outputs": [
    {
     "name": "stdout",
     "output_type": "stream",
     "text": [
      "\n",
      "Generating 8 dataset samples...\n"
     ]
    }
   ],
   "source": [
    "## We test with few samples first\n",
    "NUM_SAMPLES_TO_GENERATE = 8\n",
    "ft = time.time()\n",
    "dust_maps, cmb_maps, mixed_maps, params_list = generate_mixed_dataset(NUM_SAMPLES_TO_GENERATE)\n",
    "lt = time.time()\n",
    "print('time-taken (mixed-map-generation): ', (lt - ft)/60, ' mins')\n",
    "print(dust_maps.shape, cmb_maps.shape, mixed_maps.shape, params_list.shape)"
   ]
  },
  {
   "cell_type": "code",
   "execution_count": 17,
   "id": "2bcb897f",
   "metadata": {},
   "outputs": [
    {
     "data": {
      "image/png": "[encoded data removed]",
      "text/plain": [
       "<Figure size 1500x400 with 6 Axes>"
      ]
     },
     "metadata": {},
     "output_type": "display_data"
    }
   ],
   "source": [
    "# --- VI. Visualization of a Generated Sample ---\n",
    "if NUM_SAMPLES_TO_GENERATE > 0:\n",
    "    sample_idx_to_viz = 0\n",
    "    data_viz_dust, data_viz_cmb, data_viz_mixed = dust_maps[sample_idx_to_viz], cmb_maps[sample_idx_to_viz], mixed_maps[sample_idx_to_viz]\n",
    "    params_viz = params_list[sample_idx_to_viz]\n",
    "\n",
    "    fig, axes = plt.subplots(1, 3, figsize=(15, 4))\n",
    "    \n",
    "    im0 = axes[0].imshow(np.squeeze(data_viz_dust), cmap='coolwarm', origin='lower', vmax=np.percentile(data_viz_dust, 99))\n",
    "    axes[0].set_title(\"Dust (Signal x)\")\n",
    "    fig.colorbar(im0, ax=axes[0], fraction=0.046, pad=0.04)\n",
    "\n",
    "    im1 = axes[1].imshow(np.squeeze(data_viz_cmb), cmap='coolwarm', origin='lower')#, vmax=np.percentile(data_viz_cmb, 99))\n",
    "    axes[1].set_title(f\"CMB (Noise $\\epsilon$)\\nH0={params_viz['H0']:.1f}, ombh2={params_viz['ombh2']:.4f}, sigma={params_viz['sigma_cmb']:.2f}\", fontsize=10)\n",
    "    fig.colorbar(im1, ax=axes[1], fraction=0.046, pad=0.04)\n",
    "\n",
    "    im2 = axes[2].imshow(np.squeeze(data_viz_mixed), cmap='coolwarm', origin='lower')#, vmax=np.percentile(data_viz_mixed, 99))\n",
    "    axes[2].set_title(\"Mixed (Observation y = x + $\\epsilon$)\")\n",
    "    fig.colorbar(im2, ax=axes[2], fraction=0.046, pad=0.04)\n",
    "\n",
    "    plt.tight_layout()\n",
    "    # plt.savefig(os.path.join(OUTPUT_DIR, f\"visualization_sample_{sample_idx_to_viz:04d}.png\"))\n",
    "    plt.show()\n",
    "    # plt.close()"
   ]
  },
  {
   "cell_type": "code",
   "execution_count": 18,
   "id": "c8a8014b",
   "metadata": {},
   "outputs": [
    {
     "name": "stdout",
     "output_type": "stream",
     "text": [
      "torch.Size([8, 1, 12, 12]) torch.Size([8, 1, 12, 12]) torch.Size([8, 1, 12, 12])\n"
     ]
    }
   ],
   "source": [
    "signal = torch.tensor(dust_maps)\n",
    "noise = torch.tensor(cmb_maps) \n",
    "observation = torch.tensor(mixed_maps)\n",
    "\n",
    "print(signal.shape, noise.shape, observation.shape)"
   ]
  },
  {
   "cell_type": "code",
   "execution_count": 19,
   "id": "680979de",
   "metadata": {},
   "outputs": [],
   "source": [
    "train_split = 0.75\n",
    "val_split = 0.2\n",
    "test_spli = 0.05"
   ]
  },
  {
   "cell_type": "code",
   "execution_count": 20,
   "id": "2c4e2536",
   "metadata": {},
   "outputs": [
    {
     "name": "stdout",
     "output_type": "stream",
     "text": [
      "torch.Size([6, 1, 12, 12]) torch.Size([1, 1, 12, 12]) torch.Size([1, 1, 12, 12])\n"
     ]
    }
   ],
   "source": [
    "indices = np.random.permutation(len(signal))\n",
    "signal_shuffled = signal[indices]\n",
    "\n",
    "# Compute split sizes\n",
    "n_total = len(signal)\n",
    "n_train = int(train_split * n_total)\n",
    "n_val = int(val_split * n_total)\n",
    "n_test = n_total - n_train - n_val  # ensure it sums to total\n",
    "\n",
    "# Split the data\n",
    "signal_shuffled_train = signal_shuffled[:n_train]\n",
    "signal_shuffled_val = signal_shuffled[n_train:n_train + n_val]\n",
    "signal_shuffled_test = signal_shuffled[n_train + n_val:]\n",
    "\n",
    "# Convert to PyTorch tensors\n",
    "signal_train = torch.tensor(signal_shuffled_train, dtype=torch.float32)\n",
    "signal_val = torch.tensor(signal_shuffled_val, dtype=torch.float32)\n",
    "signal_test = torch.tensor(signal_shuffled_test, dtype=torch.float32)\n",
    "\n",
    "print(signal_train.shape, signal_val.shape, signal_test.shape)"
   ]
  },
  {
   "cell_type": "markdown",
   "id": "1287ba10",
   "metadata": {},
   "source": [
    "#### Training "
   ]
  },
  {
   "cell_type": "code",
   "execution_count": 21,
   "id": "639d8648",
   "metadata": {},
   "outputs": [],
   "source": [
    "input_size = SUB_SHAPE"
   ]
  },
  {
   "cell_type": "code",
   "execution_count": 193,
   "id": "b6b741d7",
   "metadata": {},
   "outputs": [],
   "source": [
    "import modules.comp.two_d.unet_2d_cosmo\n",
    "importlib.reload(modules.comp.two_d.unet_2d_cosmo)\n",
    "from modules.comp.two_d.unet_2d_cosmo import Unet2DGDiff_cosmo"
   ]
  },
  {
   "cell_type": "code",
   "execution_count": 194,
   "id": "459d846d",
   "metadata": {},
   "outputs": [
    {
     "name": "stdout",
     "output_type": "stream",
     "text": [
      "(2, 1, 12, 12) (2,)\n",
      "- UNET-summary -\n",
      "____________________________________________________________________________________________________\n",
      "Model: Unet1D\n",
      "====================================================================================================\n",
      "Layer (type)                            Output Shape             Param #        \n",
      "====================================================================================================\n",
      "input_1 (InputLayer)                    (2, 1, 12, 12)           0              \n",
      "input_2 (InputLayer)                    (2,)                     0              \n",
      "init_conv.proj (Conv2d)                 (2, 4, 12, 12)           40             \n",
      "init_conv.norm (GroupNorm)              (2, 4, 12, 12)           8              \n",
      "init_conv.act (SiLU)                    (2, 4, 12, 12)           0              \n",
      "init_conv.dropout (Dropout2d)           (2, 4, 12, 12)           0              \n",
      "down_blocks.0.block1.proj (Conv2d)      (2, 8, 12, 12)           296            \n",
      "down_blocks.0.block1.norm (GroupNorm)   (2, 8, 12, 12)           16             \n",
      "down_blocks.0.block1.act (SiLU)         (2, 8, 12, 12)           0              \n",
      "down_blocks.0.block1.dropout (Dropout2d)(2, 8, 12, 12)           0              \n",
      "down_blocks.0.block1 (BlockGDiff2D)     (2, 8, 12, 12)           312            \n",
      "down_blocks.0.block2.proj (Conv2d)      (2, 8, 12, 12)           584            \n",
      "down_blocks.0.block2.norm (GroupNorm)   (2, 8, 12, 12)           16             \n",
      "down_blocks.0.block2.act (SiLU)         (2, 8, 12, 12)           0              \n",
      "down_blocks.0.block2.dropout (Dropout2d)(2, 8, 12, 12)           0              \n",
      "down_blocks.0.block2 (BlockGDiff2D)     (2, 8, 12, 12)           600            \n",
      "down_blocks.0.res_conv (Conv2d)         (2, 8, 12, 12)           40             \n",
      "down_blocks.0 (ResnetBlockGDiff2D)      (2, 8, 12, 12)           952            \n",
      "time_embeddings.0 (SinusoidalTimeEmbedding)(2, 8)                   0              \n",
      "alpha_embeddings.0.embedding_layer.0 (Linear)(2, 32)                  96             \n",
      "alpha_embeddings.0.embedding_layer.1 (SiLU)(2, 32)                  0              \n",
      "alpha_embeddings.0.embedding_layer.2 (Linear)(2, 32)                  1056           \n",
      "alpha_embeddings.0.embedding_layer.3 (SiLU)(2, 32)                  0              \n",
      "alpha_embeddings.0.embedding_layer.4 (Linear)(2, 8)                   264            \n",
      "alpha_embeddings.0.embedding_layer (Sequential)(2, 8)                   1416           \n",
      "alpha_embeddings.0 (PhiEmbeddingCosmo)  (2, 8)                   1416           \n",
      "down_blocks.1.block1.proj (Conv2d)      (2, 16, 12, 12)          1168           \n",
      "down_blocks.1.block1.norm (GroupNorm)   (2, 16, 12, 12)          32             \n",
      "down_blocks.1.block1.act (SiLU)         (2, 16, 12, 12)          0              \n",
      "down_blocks.1.block1.dropout (Dropout2d)(2, 16, 12, 12)          0              \n",
      "down_blocks.1.block1 (BlockGDiff2D)     (2, 16, 12, 12)          1200           \n",
      "down_blocks.1.block2.proj (Conv2d)      (2, 16, 12, 12)          2320           \n",
      "down_blocks.1.block2.norm (GroupNorm)   (2, 16, 12, 12)          32             \n",
      "down_blocks.1.block2.act (SiLU)         (2, 16, 12, 12)          0              \n",
      "down_blocks.1.block2.dropout (Dropout2d)(2, 16, 12, 12)          0              \n",
      "down_blocks.1.block2 (BlockGDiff2D)     (2, 16, 12, 12)          2352           \n",
      "down_blocks.1.res_conv (Conv2d)         (2, 16, 12, 12)          144            \n",
      "down_blocks.1 (ResnetBlockGDiff2D)      (2, 16, 12, 12)          3696           \n",
      "time_embeddings.1 (SinusoidalTimeEmbedding)(2, 16)                  0              \n",
      "alpha_embeddings.1.embedding_layer.0 (Linear)(2, 32)                  96             \n",
      "alpha_embeddings.1.embedding_layer.1 (SiLU)(2, 32)                  0              \n",
      "alpha_embeddings.1.embedding_layer.2 (Linear)(2, 32)                  1056           \n",
      "alpha_embeddings.1.embedding_layer.3 (SiLU)(2, 32)                  0              \n",
      "alpha_embeddings.1.embedding_layer.4 (Linear)(2, 16)                  528            \n",
      "alpha_embeddings.1.embedding_layer (Sequential)(2, 16)                  1680           \n",
      "alpha_embeddings.1 (PhiEmbeddingCosmo)  (2, 16)                  1680           \n",
      "down_blocks.2.block1.proj (Conv2d)      (2, 32, 12, 12)          4640           \n",
      "down_blocks.2.block1.norm (GroupNorm)   (2, 32, 12, 12)          64             \n",
      "down_blocks.2.block1.act (SiLU)         (2, 32, 12, 12)          0              \n",
      "down_blocks.2.block1.dropout (Dropout2d)(2, 32, 12, 12)          0              \n",
      "down_blocks.2.block1 (BlockGDiff2D)     (2, 32, 12, 12)          4704           \n",
      "down_blocks.2.block2.proj (Conv2d)      (2, 32, 12, 12)          9248           \n",
      "down_blocks.2.block2.norm (GroupNorm)   (2, 32, 12, 12)          64             \n",
      "down_blocks.2.block2.act (SiLU)         (2, 32, 12, 12)          0              \n",
      "down_blocks.2.block2.dropout (Dropout2d)(2, 32, 12, 12)          0              \n",
      "down_blocks.2.block2 (BlockGDiff2D)     (2, 32, 12, 12)          9312           \n",
      "down_blocks.2.res_conv (Conv2d)         (2, 32, 12, 12)          544            \n",
      "down_blocks.2 (ResnetBlockGDiff2D)      (2, 32, 12, 12)          14560          \n",
      "time_embeddings.2 (SinusoidalTimeEmbedding)(2, 32)                  0              \n",
      "alpha_embeddings.2.embedding_layer.0 (Linear)(2, 32)                  96             \n",
      "alpha_embeddings.2.embedding_layer.1 (SiLU)(2, 32)                  0              \n",
      "alpha_embeddings.2.embedding_layer.2 (Linear)(2, 32)                  1056           \n",
      "alpha_embeddings.2.embedding_layer.3 (SiLU)(2, 32)                  0              \n",
      "alpha_embeddings.2.embedding_layer.4 (Linear)(2, 32)                  1056           \n",
      "alpha_embeddings.2.embedding_layer (Sequential)(2, 32)                  2208           \n",
      "alpha_embeddings.2 (PhiEmbeddingCosmo)  (2, 32)                  2208           \n",
      "attn_blocks.2.to_qkv (Conv2d)           (2, 384, 12, 12)         12288          \n",
      "attn_blocks.2.to_out (Conv2d)           (2, 32, 12, 12)          4128           \n",
      "attn_blocks.2 (SelfAttention2D)         (2, 32, 12, 12)          16416          \n",
      "down_blocks.3.block1.proj (Conv2d)      (2, 64, 12, 12)          18496          \n",
      "down_blocks.3.block1.norm (GroupNorm)   (2, 64, 12, 12)          128            \n",
      "down_blocks.3.block1.act (SiLU)         (2, 64, 12, 12)          0              \n",
      "down_blocks.3.block1.dropout (Dropout2d)(2, 64, 12, 12)          0              \n",
      "down_blocks.3.block1 (BlockGDiff2D)     (2, 64, 12, 12)          18624          \n",
      "down_blocks.3.block2.proj (Conv2d)      (2, 64, 12, 12)          36928          \n",
      "down_blocks.3.block2.norm (GroupNorm)   (2, 64, 12, 12)          128            \n",
      "down_blocks.3.block2.act (SiLU)         (2, 64, 12, 12)          0              \n",
      "down_blocks.3.block2.dropout (Dropout2d)(2, 64, 12, 12)          0              \n",
      "down_blocks.3.block2 (BlockGDiff2D)     (2, 64, 12, 12)          37056          \n",
      "down_blocks.3.res_conv (Conv2d)         (2, 64, 12, 12)          2112           \n",
      "down_blocks.3 (ResnetBlockGDiff2D)      (2, 64, 12, 12)          57792          \n",
      "time_embeddings.3 (SinusoidalTimeEmbedding)(2, 64)                  0              \n",
      "alpha_embeddings.3.embedding_layer.0 (Linear)(2, 32)                  96             \n",
      "alpha_embeddings.3.embedding_layer.1 (SiLU)(2, 32)                  0              \n",
      "alpha_embeddings.3.embedding_layer.2 (Linear)(2, 32)                  1056           \n",
      "alpha_embeddings.3.embedding_layer.3 (SiLU)(2, 32)                  0              \n",
      "alpha_embeddings.3.embedding_layer.4 (Linear)(2, 64)                  2112           \n",
      "alpha_embeddings.3.embedding_layer (Sequential)(2, 64)                  3264           \n",
      "alpha_embeddings.3 (PhiEmbeddingCosmo)  (2, 64)                  3264           \n",
      "attn_blocks.3.to_qkv (Conv2d)           (2, 384, 12, 12)         24576          \n",
      "attn_blocks.3.to_out (Conv2d)           (2, 64, 12, 12)          8256           \n",
      "attn_blocks.3 (SelfAttention2D)         (2, 64, 12, 12)          32832          \n",
      "bottleneck.proj (Conv2d)                (2, 64, 12, 12)          36928          \n",
      "bottleneck.norm (GroupNorm)             (2, 64, 12, 12)          128            \n",
      "bottleneck.act (SiLU)                   (2, 64, 12, 12)          0              \n",
      "bottleneck.dropout (Dropout2d)          (2, 64, 12, 12)          0              \n",
      "time_embeddings.3 (SinusoidalTimeEmbedding)(2, 64)                  0              \n",
      "att_bottleneck.to_qkv (Conv2d)          (2, 384, 12, 12)         24576          \n",
      "att_bottleneck.to_out (Conv2d)          (2, 64, 12, 12)          8256           \n",
      "bottl_down.proj (Conv2d)                (2, 32, 12, 12)          18464          \n",
      "bottl_down.norm (GroupNorm)             (2, 32, 12, 12)          64             \n",
      "bottl_down.act (SiLU)                   (2, 32, 12, 12)          0              \n",
      "bottl_down.dropout (Dropout2d)          (2, 32, 12, 12)          0              \n",
      "up_blocks.0.block1.proj (Conv2d)        (2, 32, 12, 12)          27680          \n",
      "up_blocks.0.block1.norm (GroupNorm)     (2, 32, 12, 12)          64             \n",
      "up_blocks.0.block1.act (SiLU)           (2, 32, 12, 12)          0              \n",
      "up_blocks.0.block1.dropout (Dropout2d)  (2, 32, 12, 12)          0              \n",
      "up_blocks.0.block1 (BlockGDiff2D)       (2, 32, 12, 12)          27744          \n",
      "up_blocks.0.block2.proj (Conv2d)        (2, 32, 12, 12)          9248           \n",
      "up_blocks.0.block2.norm (GroupNorm)     (2, 32, 12, 12)          64             \n",
      "up_blocks.0.block2.act (SiLU)           (2, 32, 12, 12)          0              \n",
      "up_blocks.0.block2.dropout (Dropout2d)  (2, 32, 12, 12)          0              \n",
      "up_blocks.0.block2 (BlockGDiff2D)       (2, 32, 12, 12)          9312           \n",
      "up_blocks.0.res_conv (Conv2d)           (2, 32, 12, 12)          3104           \n",
      "up_blocks.0 (ResnetBlockGDiff2D)        (2, 32, 12, 12)          40160          \n",
      "time_embeddings_up.0 (SinusoidalTimeEmbedding)(2, 32)                  0              \n",
      "alpha_embeddings_up.0.embedding_layer.0 (Linear)(2, 32)                  96             \n",
      "alpha_embeddings_up.0.embedding_layer.1 (SiLU)(2, 32)                  0              \n",
      "alpha_embeddings_up.0.embedding_layer.2 (Linear)(2, 32)                  1056           \n",
      "alpha_embeddings_up.0.embedding_layer.3 (SiLU)(2, 32)                  0              \n",
      "alpha_embeddings_up.0.embedding_layer.4 (Linear)(2, 32)                  1056           \n",
      "alpha_embeddings_up.0.embedding_layer (Sequential)(2, 32)                  2208           \n",
      "alpha_embeddings_up.0 (PhiEmbeddingCosmo)(2, 32)                  2208           \n",
      "up_blocks.1.block1.proj (Conv2d)        (2, 16, 12, 12)          9232           \n",
      "up_blocks.1.block1.norm (GroupNorm)     (2, 16, 12, 12)          32             \n",
      "up_blocks.1.block1.act (SiLU)           (2, 16, 12, 12)          0              \n",
      "up_blocks.1.block1.dropout (Dropout2d)  (2, 16, 12, 12)          0              \n",
      "up_blocks.1.block1 (BlockGDiff2D)       (2, 16, 12, 12)          9264           \n",
      "up_blocks.1.block2.proj (Conv2d)        (2, 16, 12, 12)          2320           \n",
      "up_blocks.1.block2.norm (GroupNorm)     (2, 16, 12, 12)          32             \n",
      "up_blocks.1.block2.act (SiLU)           (2, 16, 12, 12)          0              \n",
      "up_blocks.1.block2.dropout (Dropout2d)  (2, 16, 12, 12)          0              \n",
      "up_blocks.1.block2 (BlockGDiff2D)       (2, 16, 12, 12)          2352           \n",
      "up_blocks.1.res_conv (Conv2d)           (2, 16, 12, 12)          1040           \n",
      "up_blocks.1 (ResnetBlockGDiff2D)        (2, 16, 12, 12)          12656          \n",
      "time_embeddings_up.1 (SinusoidalTimeEmbedding)(2, 16)                  0              \n",
      "alpha_embeddings_up.1.embedding_layer.0 (Linear)(2, 32)                  96             \n",
      "alpha_embeddings_up.1.embedding_layer.1 (SiLU)(2, 32)                  0              \n",
      "alpha_embeddings_up.1.embedding_layer.2 (Linear)(2, 32)                  1056           \n",
      "alpha_embeddings_up.1.embedding_layer.3 (SiLU)(2, 32)                  0              \n",
      "alpha_embeddings_up.1.embedding_layer.4 (Linear)(2, 16)                  528            \n",
      "alpha_embeddings_up.1.embedding_layer (Sequential)(2, 16)                  1680           \n",
      "alpha_embeddings_up.1 (PhiEmbeddingCosmo)(2, 16)                  1680           \n",
      "up_blocks.2.block1.proj (Conv2d)        (2, 8, 12, 12)           2312           \n",
      "up_blocks.2.block1.norm (GroupNorm)     (2, 8, 12, 12)           16             \n",
      "up_blocks.2.block1.act (SiLU)           (2, 8, 12, 12)           0              \n",
      "up_blocks.2.block1.dropout (Dropout2d)  (2, 8, 12, 12)           0              \n",
      "up_blocks.2.block1 (BlockGDiff2D)       (2, 8, 12, 12)           2328           \n",
      "up_blocks.2.block2.proj (Conv2d)        (2, 8, 12, 12)           584            \n",
      "up_blocks.2.block2.norm (GroupNorm)     (2, 8, 12, 12)           16             \n",
      "up_blocks.2.block2.act (SiLU)           (2, 8, 12, 12)           0              \n",
      "up_blocks.2.block2.dropout (Dropout2d)  (2, 8, 12, 12)           0              \n",
      "up_blocks.2.block2 (BlockGDiff2D)       (2, 8, 12, 12)           600            \n",
      "up_blocks.2.res_conv (Conv2d)           (2, 8, 12, 12)           264            \n",
      "up_blocks.2 (ResnetBlockGDiff2D)        (2, 8, 12, 12)           3192           \n",
      "time_embeddings_up.2 (SinusoidalTimeEmbedding)(2, 8)                   0              \n",
      "alpha_embeddings_up.2.embedding_layer.0 (Linear)(2, 32)                  96             \n",
      "alpha_embeddings_up.2.embedding_layer.1 (SiLU)(2, 32)                  0              \n",
      "alpha_embeddings_up.2.embedding_layer.2 (Linear)(2, 32)                  1056           \n",
      "alpha_embeddings_up.2.embedding_layer.3 (SiLU)(2, 32)                  0              \n",
      "alpha_embeddings_up.2.embedding_layer.4 (Linear)(2, 8)                   264            \n",
      "alpha_embeddings_up.2.embedding_layer (Sequential)(2, 8)                   1416           \n",
      "alpha_embeddings_up.2 (PhiEmbeddingCosmo)(2, 8)                   1416           \n",
      "up_blocks.3.block1.proj (Conv2d)        (2, 4, 12, 12)           580            \n",
      "up_blocks.3.block1.norm (GroupNorm)     (2, 4, 12, 12)           8              \n",
      "up_blocks.3.block1.act (SiLU)           (2, 4, 12, 12)           0              \n",
      "up_blocks.3.block1.dropout (Dropout2d)  (2, 4, 12, 12)           0              \n",
      "up_blocks.3.block1 (BlockGDiff2D)       (2, 4, 12, 12)           588            \n",
      "up_blocks.3.block2.proj (Conv2d)        (2, 4, 12, 12)           148            \n",
      "up_blocks.3.block2.norm (GroupNorm)     (2, 4, 12, 12)           8              \n",
      "up_blocks.3.block2.act (SiLU)           (2, 4, 12, 12)           0              \n",
      "up_blocks.3.block2.dropout (Dropout2d)  (2, 4, 12, 12)           0              \n",
      "up_blocks.3.block2 (BlockGDiff2D)       (2, 4, 12, 12)           156            \n",
      "up_blocks.3.res_conv (Conv2d)           (2, 4, 12, 12)           68             \n",
      "up_blocks.3 (ResnetBlockGDiff2D)        (2, 4, 12, 12)           812            \n",
      "time_embeddings_up.3 (SinusoidalTimeEmbedding)(2, 4)                   0              \n",
      "alpha_embeddings_up.3.embedding_layer.0 (Linear)(2, 32)                  96             \n",
      "alpha_embeddings_up.3.embedding_layer.1 (SiLU)(2, 32)                  0              \n",
      "alpha_embeddings_up.3.embedding_layer.2 (Linear)(2, 32)                  1056           \n",
      "alpha_embeddings_up.3.embedding_layer.3 (SiLU)(2, 32)                  0              \n",
      "alpha_embeddings_up.3.embedding_layer.4 (Linear)(2, 4)                   132            \n",
      "alpha_embeddings_up.3.embedding_layer (Sequential)(2, 4)                   1284           \n",
      "alpha_embeddings_up.3 (PhiEmbeddingCosmo)(2, 4)                   1284           \n",
      "outc.conv (Conv2d)                      (2, 1, 12, 12)           5              \n",
      "====================================================================================================\n",
      "Total params: 286,693\n",
      "Trainable params: 286,693\n",
      "Non-trainable params: 0\n",
      "____________________________________________________________________________________________________\n"
     ]
    }
   ],
   "source": [
    "gmodel_2d_cosmo = Unet2DGDiff_cosmo(\n",
    "    dim = 4,\n",
    "    channels=1\n",
    ")\n",
    "\n",
    "## time-embedding shape -> t = torch.randint(0, self.num_timesteps, (b,), device=device).long() --> (b, )\n",
    "t_shape = (2, )\n",
    "x_shape = (2, 1, *input_size)\n",
    "\n",
    "print(x_shape, t_shape)\n",
    "\n",
    "print('- UNET-summary -')\n",
    "gmodel_2d_cosmo.summary(x_shape=x_shape, t_shape=t_shape)"
   ]
  },
  {
   "cell_type": "code",
   "execution_count": 195,
   "id": "82271024",
   "metadata": {},
   "outputs": [],
   "source": [
    "import modules.comp.two_d.diffusion_2d_cosmo\n",
    "importlib.reload(modules.comp.two_d.diffusion_2d_cosmo)\n",
    "from modules.comp.two_d.diffusion_2d_cosmo import GibbsDiff2D_cosmo"
   ]
  },
  {
   "cell_type": "code",
   "execution_count": 196,
   "id": "96824201",
   "metadata": {},
   "outputs": [],
   "source": [
    "### Just the diffusion framework\n",
    "gdiffusion_2d_cosmo = GibbsDiff2D_cosmo(\n",
    "    gmodel_2d_cosmo,\n",
    "    image_size = (1, *input_size)\n",
    ")"
   ]
  },
  {
   "cell_type": "code",
   "execution_count": 197,
   "id": "dafee800",
   "metadata": {},
   "outputs": [],
   "source": [
    "import modules.comp.diff_trainer\n",
    "importlib.reload(modules.comp.diff_trainer)\n",
    "from modules.comp.diff_trainer import TrainerGDiff"
   ]
  },
  {
   "cell_type": "code",
   "execution_count": 186,
   "id": "61d4dfac",
   "metadata": {},
   "outputs": [],
   "source": [
    "train_num_steps = 2"
   ]
  },
  {
   "cell_type": "code",
   "execution_count": 166,
   "id": "caacf5c1",
   "metadata": {},
   "outputs": [
    {
     "name": "stderr",
     "output_type": "stream",
     "text": [
      "Optimization Steps:   0%|          | 0/2 [00:02<?, ?it/s]\n"
     ]
    },
    {
     "ename": "KeyboardInterrupt",
     "evalue": "",
     "output_type": "error",
     "traceback": [
      "\u001b[0;31m---------------------------------------------------------------------------\u001b[0m",
      "\u001b[0;31mKeyboardInterrupt\u001b[0m                         Traceback (most recent call last)",
      "Cell \u001b[0;32mIn[166], line 14\u001b[0m\n\u001b[1;32m      1\u001b[0m gtrainer \u001b[38;5;241m=\u001b[39m TrainerGDiff(\n\u001b[1;32m      2\u001b[0m     gdiffusion_2d_cosmo,\n\u001b[1;32m      3\u001b[0m     signal_train,\n\u001b[0;32m   (...)\u001b[0m\n\u001b[1;32m     10\u001b[0m     mode \u001b[38;5;241m=\u001b[39m \u001b[38;5;124m'\u001b[39m\u001b[38;5;124m2D\u001b[39m\u001b[38;5;124m'\u001b[39m\n\u001b[1;32m     11\u001b[0m )\n\u001b[1;32m     13\u001b[0m ft \u001b[38;5;241m=\u001b[39m time\u001b[38;5;241m.\u001b[39mtime()\n\u001b[0;32m---> 14\u001b[0m train_loss_curve, val_loss_curve \u001b[38;5;241m=\u001b[39m \u001b[43mgtrainer\u001b[49m\u001b[38;5;241;43m.\u001b[39;49m\u001b[43mtrain\u001b[49m\u001b[43m(\u001b[49m\u001b[43m)\u001b[49m\n\u001b[1;32m     15\u001b[0m lt \u001b[38;5;241m=\u001b[39m time\u001b[38;5;241m.\u001b[39mtime()\n\u001b[1;32m     17\u001b[0m \u001b[38;5;28mprint\u001b[39m(\u001b[38;5;124m'\u001b[39m\u001b[38;5;124mtime-taken: \u001b[39m\u001b[38;5;124m'\u001b[39m, (lt \u001b[38;5;241m-\u001b[39m ft)\u001b[38;5;241m/\u001b[39m\u001b[38;5;241m60\u001b[39m)\n",
      "File \u001b[0;32m/mnt/c/Users/Alik/Desktop/M_year/MPhil/Project/GDff-Alik/modules/comp/diff_trainer.py:239\u001b[0m, in \u001b[0;36mTrainerGDiff.train\u001b[0;34m(self)\u001b[0m\n\u001b[1;32m    237\u001b[0m \u001b[38;5;66;03m# Forward and backward pass\u001b[39;00m\n\u001b[1;32m    238\u001b[0m loss \u001b[38;5;241m=\u001b[39m \u001b[38;5;28mself\u001b[39m\u001b[38;5;241m.\u001b[39mmodel(batch)\n\u001b[0;32m--> 239\u001b[0m \u001b[43mloss\u001b[49m\u001b[38;5;241;43m.\u001b[39;49m\u001b[43mbackward\u001b[49m\u001b[43m(\u001b[49m\u001b[43m)\u001b[49m\n\u001b[1;32m    241\u001b[0m \u001b[38;5;66;03m# Gradient clipping and optimizer step\u001b[39;00m\n\u001b[1;32m    242\u001b[0m nn\u001b[38;5;241m.\u001b[39mutils\u001b[38;5;241m.\u001b[39mclip_grad_norm_(\u001b[38;5;28mself\u001b[39m\u001b[38;5;241m.\u001b[39mmodel\u001b[38;5;241m.\u001b[39mparameters(), \u001b[38;5;28mself\u001b[39m\u001b[38;5;241m.\u001b[39mmax_grad_norm)\n",
      "File \u001b[0;32m/mnt/c/Users/Alik/Desktop/M_year/MPhil/Project/GDff-Alik/gdiff-env-wsl/lib/python3.12/site-packages/torch/_tensor.py:626\u001b[0m, in \u001b[0;36mTensor.backward\u001b[0;34m(self, gradient, retain_graph, create_graph, inputs)\u001b[0m\n\u001b[1;32m    616\u001b[0m \u001b[38;5;28;01mif\u001b[39;00m has_torch_function_unary(\u001b[38;5;28mself\u001b[39m):\n\u001b[1;32m    617\u001b[0m     \u001b[38;5;28;01mreturn\u001b[39;00m handle_torch_function(\n\u001b[1;32m    618\u001b[0m         Tensor\u001b[38;5;241m.\u001b[39mbackward,\n\u001b[1;32m    619\u001b[0m         (\u001b[38;5;28mself\u001b[39m,),\n\u001b[0;32m   (...)\u001b[0m\n\u001b[1;32m    624\u001b[0m         inputs\u001b[38;5;241m=\u001b[39minputs,\n\u001b[1;32m    625\u001b[0m     )\n\u001b[0;32m--> 626\u001b[0m \u001b[43mtorch\u001b[49m\u001b[38;5;241;43m.\u001b[39;49m\u001b[43mautograd\u001b[49m\u001b[38;5;241;43m.\u001b[39;49m\u001b[43mbackward\u001b[49m\u001b[43m(\u001b[49m\n\u001b[1;32m    627\u001b[0m \u001b[43m    \u001b[49m\u001b[38;5;28;43mself\u001b[39;49m\u001b[43m,\u001b[49m\u001b[43m \u001b[49m\u001b[43mgradient\u001b[49m\u001b[43m,\u001b[49m\u001b[43m \u001b[49m\u001b[43mretain_graph\u001b[49m\u001b[43m,\u001b[49m\u001b[43m \u001b[49m\u001b[43mcreate_graph\u001b[49m\u001b[43m,\u001b[49m\u001b[43m \u001b[49m\u001b[43minputs\u001b[49m\u001b[38;5;241;43m=\u001b[39;49m\u001b[43minputs\u001b[49m\n\u001b[1;32m    628\u001b[0m \u001b[43m\u001b[49m\u001b[43m)\u001b[49m\n",
      "File \u001b[0;32m/mnt/c/Users/Alik/Desktop/M_year/MPhil/Project/GDff-Alik/gdiff-env-wsl/lib/python3.12/site-packages/torch/autograd/__init__.py:347\u001b[0m, in \u001b[0;36mbackward\u001b[0;34m(tensors, grad_tensors, retain_graph, create_graph, grad_variables, inputs)\u001b[0m\n\u001b[1;32m    342\u001b[0m     retain_graph \u001b[38;5;241m=\u001b[39m create_graph\n\u001b[1;32m    344\u001b[0m \u001b[38;5;66;03m# The reason we repeat the same comment below is that\u001b[39;00m\n\u001b[1;32m    345\u001b[0m \u001b[38;5;66;03m# some Python versions print out the first line of a multi-line function\u001b[39;00m\n\u001b[1;32m    346\u001b[0m \u001b[38;5;66;03m# calls in the traceback and some print out the last line\u001b[39;00m\n\u001b[0;32m--> 347\u001b[0m \u001b[43m_engine_run_backward\u001b[49m\u001b[43m(\u001b[49m\n\u001b[1;32m    348\u001b[0m \u001b[43m    \u001b[49m\u001b[43mtensors\u001b[49m\u001b[43m,\u001b[49m\n\u001b[1;32m    349\u001b[0m \u001b[43m    \u001b[49m\u001b[43mgrad_tensors_\u001b[49m\u001b[43m,\u001b[49m\n\u001b[1;32m    350\u001b[0m \u001b[43m    \u001b[49m\u001b[43mretain_graph\u001b[49m\u001b[43m,\u001b[49m\n\u001b[1;32m    351\u001b[0m \u001b[43m    \u001b[49m\u001b[43mcreate_graph\u001b[49m\u001b[43m,\u001b[49m\n\u001b[1;32m    352\u001b[0m \u001b[43m    \u001b[49m\u001b[43minputs\u001b[49m\u001b[43m,\u001b[49m\n\u001b[1;32m    353\u001b[0m \u001b[43m    \u001b[49m\u001b[43mallow_unreachable\u001b[49m\u001b[38;5;241;43m=\u001b[39;49m\u001b[38;5;28;43;01mTrue\u001b[39;49;00m\u001b[43m,\u001b[49m\n\u001b[1;32m    354\u001b[0m \u001b[43m    \u001b[49m\u001b[43maccumulate_grad\u001b[49m\u001b[38;5;241;43m=\u001b[39;49m\u001b[38;5;28;43;01mTrue\u001b[39;49;00m\u001b[43m,\u001b[49m\n\u001b[1;32m    355\u001b[0m \u001b[43m\u001b[49m\u001b[43m)\u001b[49m\n",
      "File \u001b[0;32m/mnt/c/Users/Alik/Desktop/M_year/MPhil/Project/GDff-Alik/gdiff-env-wsl/lib/python3.12/site-packages/torch/autograd/graph.py:823\u001b[0m, in \u001b[0;36m_engine_run_backward\u001b[0;34m(t_outputs, *args, **kwargs)\u001b[0m\n\u001b[1;32m    821\u001b[0m     unregister_hooks \u001b[38;5;241m=\u001b[39m _register_logging_hooks_on_whole_graph(t_outputs)\n\u001b[1;32m    822\u001b[0m \u001b[38;5;28;01mtry\u001b[39;00m:\n\u001b[0;32m--> 823\u001b[0m     \u001b[38;5;28;01mreturn\u001b[39;00m \u001b[43mVariable\u001b[49m\u001b[38;5;241;43m.\u001b[39;49m\u001b[43m_execution_engine\u001b[49m\u001b[38;5;241;43m.\u001b[39;49m\u001b[43mrun_backward\u001b[49m\u001b[43m(\u001b[49m\u001b[43m  \u001b[49m\u001b[38;5;66;43;03m# Calls into the C++ engine to run the backward pass\u001b[39;49;00m\n\u001b[1;32m    824\u001b[0m \u001b[43m        \u001b[49m\u001b[43mt_outputs\u001b[49m\u001b[43m,\u001b[49m\u001b[43m \u001b[49m\u001b[38;5;241;43m*\u001b[39;49m\u001b[43margs\u001b[49m\u001b[43m,\u001b[49m\u001b[43m \u001b[49m\u001b[38;5;241;43m*\u001b[39;49m\u001b[38;5;241;43m*\u001b[39;49m\u001b[43mkwargs\u001b[49m\n\u001b[1;32m    825\u001b[0m \u001b[43m    \u001b[49m\u001b[43m)\u001b[49m  \u001b[38;5;66;03m# Calls into the C++ engine to run the backward pass\u001b[39;00m\n\u001b[1;32m    826\u001b[0m \u001b[38;5;28;01mfinally\u001b[39;00m:\n\u001b[1;32m    827\u001b[0m     \u001b[38;5;28;01mif\u001b[39;00m attach_logging_hooks:\n",
      "\u001b[0;31mKeyboardInterrupt\u001b[0m: "
     ]
    }
   ],
   "source": [
    "gtrainer = TrainerGDiff(\n",
    "    gdiffusion_2d_cosmo,\n",
    "    signal_train,\n",
    "    signal_val[:50],\n",
    "    train_batch_size = 8,\n",
    "    train_lr = 1e-5,\n",
    "    train_num_steps = train_num_steps, # total training steps\n",
    "    gradient_accumulate_every = 2,     # gradient accumulation steps\n",
    "    ema_decay = 0.995,                 # exponential moving average decay\n",
    "    mode = '2D'\n",
    ")\n",
    "\n",
    "ft = time.time()\n",
    "train_loss_curve, val_loss_curve = gtrainer.train()\n",
    "lt = time.time()\n",
    "\n",
    "print('time-taken: ', (lt - ft)/60)"
   ]
  },
  {
   "cell_type": "code",
   "execution_count": null,
   "id": "b41d2995",
   "metadata": {},
   "outputs": [],
   "source": [
    "fig = plt.Figure(figsize=(7, 7))\n",
    "\n",
    "rate = 10\n",
    "plt.plot(np.arange(train_num_steps // rate), train_loss_curve[::rate], color = 'red', label = 'train')\n",
    "plt.plot(np.arange(train_num_steps // rate), val_loss_curve[::rate], color = 'blue', label = 'validation')\n",
    "\n",
    "plt.ylabel('Loss')\n",
    "plt.xlabel('#Optimization Steps (sub-sampled)')\n",
    "plt.title('Loss-Curve (Sub-Sampled)')\n",
    "\n",
    "plt.grid()\n",
    "plt.legend()\n",
    "plt.show()"
   ]
  },
  {
   "cell_type": "markdown",
   "id": "3f21712a",
   "metadata": {},
   "source": [
    "#### Blind-Denoising"
   ]
  },
  {
   "cell_type": "code",
   "execution_count": 27,
   "id": "2b7faa2d",
   "metadata": {},
   "outputs": [],
   "source": [
    "from pprint import pprint"
   ]
  },
  {
   "cell_type": "markdown",
   "id": "639b8ed2",
   "metadata": {},
   "source": [
    "this approach will lead to overfit - because I have not split the corres. observation -> signal\n",
    "\n",
    "omega_b = ombh2 / (H0/100)^2 ## paper uses omega_b"
   ]
  },
  {
   "cell_type": "code",
   "execution_count": 187,
   "id": "fdd0ab6a",
   "metadata": {},
   "outputs": [],
   "source": [
    "init_sigma = 0.4\n",
    "main_device = 'cuda' if torch.cuda.is_available() else 'cpu'"
   ]
  },
  {
   "cell_type": "code",
   "execution_count": 188,
   "id": "75108936",
   "metadata": {},
   "outputs": [
    {
     "name": "stdout",
     "output_type": "stream",
     "text": [
      "torch.Size([1, 1, 12, 12]) torch.Size([1, 1, 12, 12])\n",
      "\n",
      "True-Params\n",
      "\n",
      "{'H0': 88.77049266397538,\n",
      " 'ombh2': 0.029302674919595262,\n",
      " 'sigma_cmb': 0.3231568495815741}\n"
     ]
    }
   ],
   "source": [
    "y, x0, true_params = observation[-1].view(1, 1, *input_size), signal[-1].view(1, 1, *input_size), params_list[-1]\n",
    "\n",
    "print(x0.shape, y.shape)\n",
    "print()\n",
    "print('True-Params')\n",
    "print()\n",
    "pprint(true_params)\n",
    "true_H0, true_omb, true_sigma = true_params['H0'], true_params['ombh2'], true_params['sigma_cmb']"
   ]
  },
  {
   "cell_type": "markdown",
   "id": "ef4b3f22",
   "metadata": {},
   "source": [
    "the noising process is continous but the time-step matching/t-indexing procedur is discrete -> so statistical uncertainty remains"
   ]
  },
  {
   "cell_type": "code",
   "execution_count": 198,
   "id": "df733148",
   "metadata": {},
   "outputs": [
    {
     "name": "stdout",
     "output_type": "stream",
     "text": [
      "closest_discrete_timestep:  117\n",
      "torch.Size([1, 1, 12, 12]) torch.Size([1, 1, 12, 12])\n"
     ]
    }
   ],
   "source": [
    "sigma_timestep = gdiffusion_2d_cosmo.get_closest_ddpm_timestep_from_sigma_cmb(torch.tensor([init_sigma]).to(main_device)).item()\n",
    "print('closest_discrete_timestep: ', sigma_timestep)\n",
    "\n",
    "### t-indexed normalization\n",
    "alpha_bar_t = gdiffusion_2d_cosmo.alpha_bar_t_ddpm[sigma_timestep].reshape(-1, 1, 1, 1).to(main_device)\n",
    "yt = torch.sqrt(alpha_bar_t) * y \n",
    "\n",
    "print(y.shape, yt.shape)"
   ]
  },
  {
   "cell_type": "markdown",
   "id": "9b21a01c",
   "metadata": {},
   "source": [
    "might not need y_t (t-indexed-val) as we are uniformly sampling a initial-value ~ U(min > 0, 1.2)"
   ]
  },
  {
   "cell_type": "code",
   "execution_count": 205,
   "id": "c9103b8f",
   "metadata": {},
   "outputs": [],
   "source": [
    "import modules.utils.hmc_cosmo\n",
    "importlib.reload(modules.utils.hmc_cosmo)\n",
    "from modules.utils.hmc_cosmo import *"
   ]
  },
  {
   "cell_type": "markdown",
   "id": "d9c88a00",
   "metadata": {},
   "source": [
    "point-estimate"
   ]
  },
  {
   "cell_type": "code",
   "execution_count": 200,
   "id": "563095c3",
   "metadata": {},
   "outputs": [
    {
     "name": "stdout",
     "output_type": "stream",
     "text": [
      "x_0_hat (Point-Estimate):\n"
     ]
    },
    {
     "name": "stderr",
     "output_type": "stream",
     "text": [
      "Gibbs Iterations:   0%|          | 0/7 [00:00<?, ?it/s]"
     ]
    },
    {
     "name": "stderr",
     "output_type": "stream",
     "text": [
      "Gibbs Iterations: 100%|██████████| 7/7 [01:12<00:00, 10.38s/it]"
     ]
    },
    {
     "name": "stdout",
     "output_type": "stream",
     "text": [
      "Sampling-Done!\n",
      "torch.Size([1, 3]) torch.Size([1, 1, 12, 12])\n",
      "phi_hat:  tensor([[6.4618e-01, 5.2867e+01, 4.2981e-02]])\n",
      "sampling-time-taken:  1.2126790364583333  mins\n"
     ]
    },
    {
     "name": "stderr",
     "output_type": "stream",
     "text": [
      "\n"
     ]
    }
   ],
   "source": [
    "print('x_0_hat (Point-Estimate):')\n",
    "\n",
    "## x_0_hat, phi_hat -- point estimate - single chain run\n",
    "\n",
    "ft = time.time()\n",
    "## version_1 : HMC - sampler is has fixed identity mass_matrix   \n",
    "phi_sampled, x_denoised = gdiffusion_2d_cosmo.run_gibbs_sampler(y, num_chains_per_gibbs_sample=1, n_it_gibbs=5, n_it_burnin_gibbs=2) \n",
    "print('Sampling-Done!')\n",
    "print(phi_sampled.shape, x_denoised.shape)\n",
    "print('phi_hat: ', phi_sampled)\n",
    "lt = time.time()\n",
    "print('sampling-time-taken: ', (lt - ft)/60, ' mins')"
   ]
  },
  {
   "cell_type": "markdown",
   "id": "e5368c68",
   "metadata": {},
   "source": [
    "posterior-distribution"
   ]
  },
  {
   "cell_type": "code",
   "execution_count": null,
   "id": "53658c92",
   "metadata": {},
   "outputs": [
    {
     "name": "stdout",
     "output_type": "stream",
     "text": [
      "x_0_hat (Posterior-Distribution):\n"
     ]
    },
    {
     "name": "stderr",
     "output_type": "stream",
     "text": [
      "Gibbs Iterations:   0%|          | 0/7 [00:00<?, ?it/s]"
     ]
    },
    {
     "name": "stderr",
     "output_type": "stream",
     "text": [
      "Gibbs Iterations:  29%|██▊       | 2/7 [01:38<04:05, 49.16s/it]\n"
     ]
    }
   ],
   "source": [
    "## x_0_hat, phi_hat -- point estimate - single chain run\n",
    "\n",
    "print('x_0_hat (Posterior-Distribution):')\n",
    "\n",
    "ft = time.time()\n",
    "## n_it_gibbs = chain_length | shape ~ (#chains (post_samples = different chain realisation), batch_size, last_few_states (avg_pmean), *rem-dim)\n",
    "phi_all_posterior, x_denoised_posterior = gdiffusion_2d_cosmo.blind_posterior_mean(y, num_chains_per_gibbs_sample=5, n_it_gibbs=5, n_it_burnin_gibbs=2, avg_pmean=2, return_full_posterior_chains=True)\n",
    "\n",
    "phi_all_posterior = phi_all_posterior.mean(dim=2)\n",
    "x_denoised_posterior = x_denoised_posterior.mean(dim=2)\n",
    "\n",
    "print('phi_all_posterior: ', phi_all_posterior.shape)\n",
    "print('x_denoised_posterior: ', x_denoised_posterior.shape)\n",
    "lt = time.time()\n",
    "print('sampling-time-taken: ', (lt - ft)/60, ' mins')"
   ]
  },
  {
   "cell_type": "markdown",
   "id": "fa51b6ea",
   "metadata": {},
   "source": [
    "Display (NEED: Cornerplot)"
   ]
  },
  {
   "cell_type": "code",
   "execution_count": null,
   "id": "9cd5fd02",
   "metadata": {},
   "outputs": [],
   "source": [
    "idx = 0\n",
    "\n",
    "phi_hat = phi_all_posterior[:, idx, 0]\n",
    "sigma_hat = phi_all_posterior[:, idx, 1]\n",
    "\n",
    "fig, axs = plt.subplots(1, 2, figsize=(10, 5))\n",
    "\n",
    "axs[0].hist(phi_hat, bins = 20)\n",
    "axs[0].set_title('phi_hat (v1)')\n",
    "axs[0].axvline(true_H0, color='red', linestyle='--', label='true')\n",
    "axs[0].axvline(phi_hat.mean(dim=0), color='green', linestyle='--', label='mean')\n",
    "axs[0].legend()\n",
    "\n",
    "axs[1].hist(sigma_hat, bins = 20)\n",
    "axs[1].set_title('sigma_hat (v1)')\n",
    "axs[1].axvline(true_sigma, color='red', linestyle='--', label='true')\n",
    "axs[1].axvline(sigma_hat.mean(dim=0), color='green', linestyle='--', label='mean')\n",
    "axs[1].set_xlim(true_sigma - 0.25 * true_sigma, true_sigma + 0.25 * true_sigma)\n",
    "axs[1].legend()\n",
    "\n",
    "plt.show()"
   ]
  },
  {
   "cell_type": "code",
   "execution_count": null,
   "id": "82cec223",
   "metadata": {},
   "outputs": [],
   "source": [
    "x_denoised = x_denoised.cpu().numpy().reshape(x_denoised.shape[0], *input_size, 3).astype('float32')\n",
    "y = y.cpu().numpy().reshape(y.shape[0], *input_size, 3).astype('float32')\n",
    "yt = yt.cpu().numpy().reshape(yt.shape[0], *input_size, 3).astype('float32')\n",
    "x0 = x0.cpu().numpy().reshape(x0.shape[0], *input_size, 3).astype('float32')"
   ]
  },
  {
   "cell_type": "markdown",
   "id": "6c8ac816",
   "metadata": {},
   "source": [
    "Prediction"
   ]
  },
  {
   "cell_type": "code",
   "execution_count": null,
   "id": "a1c3e11c",
   "metadata": {},
   "outputs": [],
   "source": [
    "# x_denoised = x_denoised.numpy()\n",
    "\n",
    "fig, axs = plt.subplots(1, 4, figsize=(9, 9)) \n",
    "\n",
    "axs[2].imshow((x_denoised[0] * 255).astype('uint8'))\n",
    "axs[2].set_title('Denoised (x_0_hat)')\n",
    "\n",
    "axs[0].imshow((y[0] * 255).astype('uint8'))\n",
    "axs[0].set_title('noisy-img (y)')\n",
    "\n",
    "axs[1].imshow((yt[0] * 255).astype('uint8'))\n",
    "axs[1].set_title('norm-noisy-img (yt)')\n",
    "\n",
    "axs[3].imshow((x0[0] * 255).astype('uint8'))\n",
    "axs[3].set_title('true-image (x0)')\n",
    "\n",
    "plt.tight_layout(pad=2)\n",
    "plt.show()\n",
    "\n",
    "print('PSNR (clean/denoised): ', psnr_2d(x0, x_denoised))\n",
    "print('SSIM (clean/denoised): ', ssim_2d(x0, x_denoised))\n",
    "print('L1 (clean/denoised): ', l1_loss_2d(x0, x_denoised))"
   ]
  },
  {
   "cell_type": "code",
   "execution_count": null,
   "id": "ff4e19ad",
   "metadata": {},
   "outputs": [],
   "source": []
  },
  {
   "cell_type": "code",
   "execution_count": null,
   "id": "a0c0e38e",
   "metadata": {},
   "outputs": [],
   "source": []
  },
  {
   "cell_type": "code",
   "execution_count": null,
   "id": "cee13aed",
   "metadata": {},
   "outputs": [],
   "source": []
  }
 ],
 "metadata": {
  "kernelspec": {
   "display_name": "gdiff-env-wsl",
   "language": "python",
   "name": "python3"
  },
  "language_info": {
   "codemirror_mode": {
    "name": "ipython",
    "version": 3
   },
   "file_extension": ".py",
   "mimetype": "text/x-python",
   "name": "python",
   "nbconvert_exporter": "python",
   "pygments_lexer": "ipython3",
   "version": "3.12.3"
  }
 },
 "nbformat": 4,
 "nbformat_minor": 5
}
